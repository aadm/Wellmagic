{
 "metadata": {
  "name": "",
  "signature": "sha256:869dac351c853af0255730286ceb7b4889cc24e4f1e12e401cf938725027689e"
 },
 "nbformat": 3,
 "nbformat_minor": 0,
 "worksheets": [
  {
   "cells": [
    {
     "cell_type": "heading",
     "level": 1,
     "metadata": {},
     "source": [
      "Data loading"
     ]
    },
    {
     "cell_type": "markdown",
     "metadata": {},
     "source": [
      "So I have these two LAS files containing respectively insitu and fluid-replacement measures for one well.\n",
      "What I want to do is to import these files, remove the logs I don't need, merge together the two sets and finally do some QC plots.\n",
      "\n",
      "First a few words on the libraries I am using:\n",
      "\n",
      "* numpy\n",
      "* matplotlib\n",
      "* pandas\n",
      "* las\n",
      "\n",
      "The first three are included by default in Canopy Express (free download here: <http://store.enthought.com>), the last one, needed to load LAS files, is available here: <http://wiki.scipy.org/Cookbook/LASReader>.\n",
      "\n",
      "So let's start importing these libraries; the first line (`%matplotlib`) also does some magic to display inline figures in this notebook and it will not be necessary if you run this code from a Canopy prompt."
     ]
    },
    {
     "cell_type": "code",
     "collapsed": false,
     "input": [
      "%matplotlib inline\n",
      "import numpy as np\n",
      "import matplotlib.pyplot as plt\n",
      "import pandas as pd\n",
      "from las import LASReader"
     ],
     "language": "python",
     "metadata": {},
     "outputs": [],
     "prompt_number": 15
    },
    {
     "cell_type": "markdown",
     "metadata": {},
     "source": [
      "What I usually do after loading the files is to convert everything to a _pandas_ DataFrame( because it makes life easier):"
     ]
    },
    {
     "cell_type": "code",
     "collapsed": false,
     "input": [
      "ins=LASReader('well_python_1.las',null_subs=np.nan)\n",
      "bri=LASReader('well_python_1_brine.las',null_subs=np.nan)\n",
      "ll=pd.DataFrame(ins.data)\n",
      "lb=pd.DataFrame(bri.data)"
     ],
     "language": "python",
     "metadata": {},
     "outputs": [],
     "prompt_number": 16
    },
    {
     "cell_type": "markdown",
     "metadata": {},
     "source": [
      "Then I will do a quick check on these newly created DataFrames to see the logs:"
     ]
    },
    {
     "cell_type": "code",
     "collapsed": false,
     "input": [
      "ll.columns"
     ],
     "language": "python",
     "metadata": {},
     "outputs": [
      {
       "metadata": {},
       "output_type": "pyout",
       "prompt_number": 4,
       "text": [
        "Index([u'DEPTH', u'TVD', u'WATER', u'VCL', u'VS', u'PHIE', u'VP', u'RHOB', u'FACIES'], dtype='object')"
       ]
      }
     ],
     "prompt_number": 4
    },
    {
     "cell_type": "markdown",
     "metadata": {},
     "source": [
      "Some other quick checks are querying the range of depths, or the average Vp values:"
     ]
    },
    {
     "cell_type": "code",
     "collapsed": false,
     "input": [
      "print ll.DEPTH.min()\n",
      "print ll.DEPTH.max()\n",
      "print ll.VP.mean()"
     ],
     "language": "python",
     "metadata": {},
     "outputs": [
      {
       "output_type": "stream",
       "stream": "stdout",
       "text": [
        "2800.0452\n",
        "2950.9212\n",
        "2648.32072674\n"
       ]
      }
     ],
     "prompt_number": 5
    },
    {
     "cell_type": "markdown",
     "metadata": {},
     "source": [
      "If I find some logs to remove I use the `drop` method; the optional `axis=1` is required otherwise Pandas will search for a row named `TVD` instead of a column:"
     ]
    },
    {
     "cell_type": "code",
     "collapsed": false,
     "input": [
      "ll=ll.drop(['TVD'],axis=1)\n",
      "ll.rename(columns={'WATER':'SW'}, inplace=True)"
     ],
     "language": "python",
     "metadata": {},
     "outputs": [],
     "prompt_number": 17
    },
    {
     "cell_type": "markdown",
     "metadata": {},
     "source": [
      "The beauty of the Pandas library is that you have at your disposal powerful ways to quickly inspect your data, such as:"
     ]
    },
    {
     "cell_type": "code",
     "collapsed": false,
     "input": [
      "ll[['VP','VS','RHOB','PHIE']].describe()"
     ],
     "language": "python",
     "metadata": {},
     "outputs": [
      {
       "html": [
        "<div style=\"max-height:1000px;max-width:1500px;overflow:auto;\">\n",
        "<table border=\"1\" class=\"dataframe\">\n",
        "  <thead>\n",
        "    <tr style=\"text-align: right;\">\n",
        "      <th></th>\n",
        "      <th>VP</th>\n",
        "      <th>VS</th>\n",
        "      <th>RHOB</th>\n",
        "      <th>PHIE</th>\n",
        "    </tr>\n",
        "  </thead>\n",
        "  <tbody>\n",
        "    <tr>\n",
        "      <th>count</th>\n",
        "      <td>  991.000000</td>\n",
        "      <td>  991.000000</td>\n",
        "      <td>  991.000000</td>\n",
        "      <td> 991.000000</td>\n",
        "    </tr>\n",
        "    <tr>\n",
        "      <th>mean</th>\n",
        "      <td> 2648.320727</td>\n",
        "      <td> 1211.694297</td>\n",
        "      <td> 2278.305126</td>\n",
        "      <td>   0.133835</td>\n",
        "    </tr>\n",
        "    <tr>\n",
        "      <th>std</th>\n",
        "      <td>  239.245242</td>\n",
        "      <td>  186.380428</td>\n",
        "      <td>   79.681249</td>\n",
        "      <td>   0.081685</td>\n",
        "    </tr>\n",
        "    <tr>\n",
        "      <th>min</th>\n",
        "      <td> 2221.496500</td>\n",
        "      <td>  922.121090</td>\n",
        "      <td> 2000.462700</td>\n",
        "      <td>   0.031700</td>\n",
        "    </tr>\n",
        "    <tr>\n",
        "      <th>25%</th>\n",
        "      <td> 2466.706100</td>\n",
        "      <td> 1073.192300</td>\n",
        "      <td> 2237.820450</td>\n",
        "      <td>   0.062806</td>\n",
        "    </tr>\n",
        "    <tr>\n",
        "      <th>50%</th>\n",
        "      <td> 2590.863900</td>\n",
        "      <td> 1185.822700</td>\n",
        "      <td> 2313.177200</td>\n",
        "      <td>   0.102790</td>\n",
        "    </tr>\n",
        "    <tr>\n",
        "      <th>75%</th>\n",
        "      <td> 2763.359200</td>\n",
        "      <td> 1306.126600</td>\n",
        "      <td> 2331.937450</td>\n",
        "      <td>   0.208803</td>\n",
        "    </tr>\n",
        "    <tr>\n",
        "      <th>max</th>\n",
        "      <td> 3480.650300</td>\n",
        "      <td> 1923.719600</td>\n",
        "      <td> 2449.475700</td>\n",
        "      <td>   0.328350</td>\n",
        "    </tr>\n",
        "  </tbody>\n",
        "</table>\n",
        "</div>"
       ],
       "metadata": {},
       "output_type": "pyout",
       "prompt_number": 7,
       "text": [
        "                VP           VS         RHOB        PHIE\n",
        "count   991.000000   991.000000   991.000000  991.000000\n",
        "mean   2648.320727  1211.694297  2278.305126    0.133835\n",
        "std     239.245242   186.380428    79.681249    0.081685\n",
        "min    2221.496500   922.121090  2000.462700    0.031700\n",
        "25%    2466.706100  1073.192300  2237.820450    0.062806\n",
        "50%    2590.863900  1185.822700  2313.177200    0.102790\n",
        "75%    2763.359200  1306.126600  2331.937450    0.208803\n",
        "max    3480.650300  1923.719600  2449.475700    0.328350"
       ]
      }
     ],
     "prompt_number": 7
    },
    {
     "cell_type": "markdown",
     "metadata": {},
     "source": [
      "It is also very easy to access a single log, for example `ll.VP` would give you the P-wave velocity log and `ll.PHIE` the porosities.\n",
      "\n",
      "There are different ways to rename a column, either with `<dataframe>.rename` as above or by assigning a new list of names to the DataFrame columns. I will use the latter method to modify `lb` (dataframe containing the brine-replaced logs) -- also notice how I get rid not only of `TVD` but also `PHIE` and the other petrophysical logs which I don't need as they are the same as those contained in the insitu log file:"
     ]
    },
    {
     "cell_type": "code",
     "collapsed": false,
     "input": [
      "lb=lb.drop(['TVD','PHIE','WATER','VCL'],axis=1)\n",
      "lb.columns=['DEPTH','VS_BRI','VP_BRI','RHOB_BRI','FACIES_BRI']"
     ],
     "language": "python",
     "metadata": {},
     "outputs": [],
     "prompt_number": 18
    },
    {
     "cell_type": "markdown",
     "metadata": {},
     "source": [
      "Finally, I merge the two Dataframes together:"
     ]
    },
    {
     "cell_type": "code",
     "collapsed": false,
     "input": [
      "l=pd.merge(ll,lb,on='DEPTH', how='outer')"
     ],
     "language": "python",
     "metadata": {},
     "outputs": [],
     "prompt_number": 19
    },
    {
     "cell_type": "markdown",
     "metadata": {},
     "source": [
      "Then I create additional logs like Ip and Vp/Vs:"
     ]
    },
    {
     "cell_type": "code",
     "collapsed": false,
     "input": [
      "l['RHOB']=l['RHOB']/1000\n",
      "l['VPVS']=l['VP']/l['VS']\n",
      "l['IP']=l['VP']*l['RHOB']\n",
      "\n",
      "l['RHOB_BRI']=l['RHOB_BRI']/1000\n",
      "l['VPVS_BRI']=l['VP_BRI']/l['VS_BRI']\n",
      "l['IP_BRI']=l['VP_BRI']*l['RHOB_BRI']"
     ],
     "language": "python",
     "metadata": {},
     "outputs": [],
     "prompt_number": 20
    },
    {
     "cell_type": "markdown",
     "metadata": {},
     "source": [
      "I will then save everything back to a file which will be my primary input from now on. A standard CSV file is good enough for me, no need to save it back to LAS (also because this LAS library I'm using as no output method from what I understand); the good thing with Pandas `.to_csv` module is that it also saves a 1 row header with the column names."
     ]
    },
    {
     "cell_type": "code",
     "collapsed": false,
     "input": [
      "l.to_csv('well_python_1_fixed.csv')"
     ],
     "language": "python",
     "metadata": {},
     "outputs": [],
     "prompt_number": 11
    },
    {
     "cell_type": "heading",
     "level": 1,
     "metadata": {},
     "source": [
      "QC plots"
     ]
    },
    {
     "cell_type": "markdown",
     "metadata": {},
     "source": [
      "First I need to look at a conventional log plot with petrophysical and elastic logs:"
     ]
    },
    {
     "cell_type": "code",
     "collapsed": false,
     "input": [
      "f, ax = plt.subplots(nrows=1, ncols=3, sharey=True)\n",
      "l.plot(x='IP_BRI', y='DEPTH',      ax=ax[0], style='b');\n",
      "l.plot(x='IP', y='DEPTH',          ax=ax[0], style='k', linewidth=2);\n",
      "l.plot(x='VPVS_BRI', y='DEPTH',    ax=ax[1], style='b');\n",
      "l.plot(x='VPVS', y='DEPTH',        ax=ax[1], style='k', linewidth=2);\n",
      "l.plot(x='VCL', y='DEPTH',         ax=ax[2], style='g', label='Vcl');\n",
      "l.plot(x='SW', y='DEPTH',          ax=ax[2], style='b', label='Sw');\n",
      "l.plot(x='PHIE', y='DEPTH',        ax=ax[2], style='k', label='phi');\n",
      "ax[2].legend(fontsize='small')\n",
      "ax[0].set_xlabel(\"Ip [m/s*g/cc]\"), ax[0].set_xlim(4000,10000)\n",
      "ax[1].set_xlabel(\"Vp/Vs\"),         ax[1].set_xlim(1.5,3)\n",
      "ax[2].set_xlabel(\"Vcl/Sw/phi\"),    ax[2].set_xlim(-0.1,1.1)\n",
      "ax[0].invert_yaxis()\n",
      "ax[0].locator_params(axis='x', nbins=4)\n",
      "ax[1].locator_params(axis='x', nbins=4)"
     ],
     "language": "python",
     "metadata": {},
     "outputs": [
      {
       "metadata": {},
       "output_type": "display_data",
       "png": "[encoded data removed]",
       "text": [
        "<matplotlib.figure.Figure at 0x66c6530>"
       ]
      }
     ],
     "prompt_number": 14
    },
    {
     "cell_type": "markdown",
     "metadata": {},
     "source": [
      "There is plenty of tutorials and help available for plots so I won't comment a lot on this particular one; but just notice the use of `sharey=True` when setting up the plot space, meaning that all subplots will share the Y-axis (depth). I then reuse this bit of information when I call `ax[0].invert_yaxis()`, i.e. I only have to swap the depth axis for the first subplot to get the familiar depth column increasing downwards.\n",
      "\n",
      "Also, the last two lines are simply to unclutter the tick labels for the first two subplots and make them more legible.\n",
      "\n",
      "Now, let's see the classical Ip-Vp/Vs crossplot, color-coded by facies:"
     ]
    },
    {
     "cell_type": "code",
     "collapsed": false,
     "input": [
      "plt.figure\n",
      "plt.scatter(l.IP, l.VPVS, 20, l.FACIES, marker='o', edgecolors='none')\n",
      "plt.xlim(4000,8500); plt.ylim(1.6,2.6);\n",
      "plt.colorbar();"
     ],
     "language": "python",
     "metadata": {},
     "outputs": [
      {
       "metadata": {},
       "output_type": "display_data",
       "png": "[encoded data removed]",
       "text": [
        "<matplotlib.figure.Figure at 0x6bce390>"
       ]
      }
     ],
     "prompt_number": 30
    },
    {
     "cell_type": "markdown",
     "metadata": {},
     "source": [
      "This is a perfectly good working crossplot, but it can be improved by choosing a discrete colorbar with as many colors as the facies number. We have 13 facies:"
     ]
    },
    {
     "cell_type": "code",
     "collapsed": false,
     "input": [
      "l.FACIES.max()"
     ],
     "language": "python",
     "metadata": {},
     "outputs": [
      {
       "metadata": {},
       "output_type": "pyout",
       "prompt_number": 33,
       "text": [
        "13.0"
       ]
      }
     ],
     "prompt_number": 33
    },
    {
     "cell_type": "markdown",
     "metadata": {},
     "source": [
      "So I can create a colormap made of 13 discrete colors and use this in the scatterplot:"
     ]
    },
    {
     "cell_type": "code",
     "collapsed": false,
     "input": [
      "import matplotlib.colors as colors\n",
      "#              grey      lightmag  cyan      green     brown     lightred  yellow\n",
      "faciescolr = ['#848484','#FF80FF','#00FFFF','#00FF00','#996633','#FF6666','#FFFF00',\n",
      "              '#FF00FF','#0066FF','#008000','#4C331A','#FF0000','#B2B200']\n",
      "#              magenta   darkcya   darkgre   darkbro   red       darkyel\n",
      "cmap_facies = colors.ListedColormap(faciescolr[0:len(faciescolr)], 'indexed')\n",
      "\n",
      "plt.figure()\n",
      "plt.scatter(l.IP, l.VPVS, 20, l.FACIES, marker='o', cmap=cmap_facies, edgecolors='none')\n",
      "plt.xlim(4000,8500); plt.ylim(1.6,2.6);\n",
      "plt.colorbar();"
     ],
     "language": "python",
     "metadata": {},
     "outputs": [
      {
       "metadata": {},
       "output_type": "display_data",
       "png": "[encoded data removed]",
       "text": [
        "<matplotlib.figure.Figure at 0x4a9ef10>"
       ]
      }
     ],
     "prompt_number": 36
    },
    {
     "cell_type": "markdown",
     "metadata": {},
     "source": [
      "There is a way to get a better colormap with only integer numbers displayed and the facies index number right smack in the middle of each corresponding color box, and my initial thoughts were to avoid going too deep into nerdery. So I'll just put out the code (actually a small function) and I am not going to use it in this notebook.\n",
      "\n",
      "So this function would be typically called right after a scatter plot colorcoded with some property (e.g., facies number) that goes from 1 to 5 with `colorbar_index(ncolors=5, cmap='Paired')`. Obviously replace `'Paired'` with any colormap you like (e.g., `'jet'`, '`hsv'`, etc)."
     ]
    },
    {
     "cell_type": "code",
     "collapsed": false,
     "input": [
      "def colorbar_index(ncolors, cmap):\n",
      "    mappable = plt.cm.ScalarMappable(cmap=cmap)\n",
      "    mappable.set_array([])\n",
      "    mappable.set_clim(-0.5, ncolors+0.5)\n",
      "    colorbar = plt.colorbar(mappable)\n",
      "    colorbar.set_ticks(np.linspace(0, ncolors, ncolors))\n",
      "    colorbar.set_ticklabels(range(1,ncolors+1))"
     ],
     "language": "python",
     "metadata": {},
     "outputs": [],
     "prompt_number": 40
    },
    {
     "cell_type": "heading",
     "level": 1,
     "metadata": {},
     "source": [
      "Merge original and fluid-replaced logs"
     ]
    },
    {
     "cell_type": "markdown",
     "metadata": {},
     "source": [
      "What I need to do now is to group together insitu and fluid-replaced data, as I will consider from now on my fluid-replaced data exactly the same as my insitu data, i.e. good, solid datapoints _that will help me build an extended dataset etc._\n",
      "\n",
      "To do that I:\n",
      "\n",
      "* extract only the logs required (`IP`, `VPVS`, `PHIE`) avoiding those rows where I have null values (using `pd.notnull`) using [`ix`](http://pandas.pydata.org/pandas-docs/stable/indexing.html),\n",
      "* build two new DataFrames, one (`ww0`) with insitu the other (`ww1`) with brine-replaced logs,\n",
      "* give these logs exactly the same names (`dataframe.columns=['1st log', '2nd log', 'etc']`) so that I can concatenate them together (with `pd.concat`).\n",
      "\n",
      "The only complicated thing here is the use of Pandas' `ix` in conjunction with `notnull` to avoid selecting empty rows.\n",
      "\n",
      "Essentially, if I want to select a subset of logs (i.e., columns in a Pandas dataframe) I use a syntax like `dataframe.ix[:,'column1','column2']`, meaning that I will take all the rows (indicated by `:`) of `column1` and `column2`. Then I  specify to take that subset from the rows that match another condition, i.e. not being null values, by appending the `ix` method to `dataframe[pd.notnull(dataframe.FACIES)]`."
     ]
    },
    {
     "cell_type": "code",
     "collapsed": false,
     "input": [
      "lognames0=['FACIES','IP','VPVS']\n",
      "lognames1=['FACIES_BRI','IP_BRI', 'VPVS_BRI']\n",
      "ww0=l[pd.notnull(l.FACIES)].ix[:,lognames0];  ww0.columns=[lognames0]\n",
      "ww1=l[pd.notnull(l.FACIES)].ix[:,lognames1];  ww1.columns=[lognames0]\n",
      "ww=pd.concat([ww0, ww1])"
     ],
     "language": "python",
     "metadata": {},
     "outputs": [],
     "prompt_number": 21
    },
    {
     "cell_type": "heading",
     "level": 1,
     "metadata": {},
     "source": [
      "Statistical analysis"
     ]
    },
    {
     "cell_type": "markdown",
     "metadata": {},
     "source": [
      "Now I need to calculate mean and covariance matrix of my data and keep them somewhere safe, that is someplace that could be easily accessed.\n",
      "\n",
      "Mean and covariances for each class are needed to compute multivariate random normal distributions, which is our final objective.\n",
      "\n",
      "The covariance matrix is something like this for two variables, e.g. Ip and Is:\n",
      "\n",
      "    [ var_Ip     cov_IpIs ]\n",
      "    [ cov_IpIs   var_Is   ]\n",
      "\n",
      "If we had three variables instead, e.g. Ip, Is and Rho:\n",
      "\n",
      "    [ var_Ip      cov_IpIs     cov_IpRho ]\n",
      "    [ cov_IpIs    var_Is       cov_IsRho ]\n",
      "    [ cov_IpRho   cov_IsRho    var_Rho   ]\n",
      "\n",
      "To store this matrix in something easily accessible like a Pandas DataFrame I will linearize the matrices, removing the duplicates, meaning that I would have something like this for the above combinations:\n",
      "\n",
      "    var_Ip  cov_IpIs  var_Is\n",
      "    var_Ip  cov_IpIs  cov_IpRho  var_Is  cov_IsRho var_Rho\n",
      "\n",
      "I am pretty sure that most of you have already jumped at [this wikipedia entry](http://en.wikipedia.org/wiki/Covariance_matrix) at this point; and the others would probably know this stuff better than me.\n",
      "\n",
      "So let's move ahead and show what I do in a real world scenario. As I said before, I want to store this statistical information somewhere; this 'somewhere' is another Pandas dataframe. In order to do that, I first need to prepare a few things, and with the idea of reutilizing this code for a study involving more than my 2 elastic properties, here's what I do:"
     ]
    },
    {
     "cell_type": "code",
     "collapsed": false,
     "input": [
      "nfacies=int(ww.FACIES.max())\n",
      "nlogs=len(ww.columns)-1  # my merged data always contain a facies log that will be excluded from the analysis\n",
      "names_mean=['']*nlogs    # create empty list of strings that will form the headers for the columns containing the mean\n",
      "names_cov=['']*nlogs*nlogs # same as above but for the columns containing the covariance\n",
      "for i,aa in enumerate(names_mean):  # populate names_mean with unique names, from mean0 to mean3\n",
      "    names_mean[i]='mean'+str(i)\n",
      "for i,aa in enumerate(names_cov):   # populate names_cov with unique names, from cov0 to cov15\n",
      "    names_cov[i]='cov'+str(i)        "
     ],
     "language": "python",
     "metadata": {},
     "outputs": [],
     "prompt_number": 32
    },
    {
     "cell_type": "markdown",
     "metadata": {},
     "source": [
      "In other words, I simply build the headers for a Pandas DataFrame to store mean and covariances for each class.\n",
      "\n",
      "The DataFrame is dynamically dimensioned and will be made of `nfacies` rows, i.e. one row per each facies, and `1+n+m+1` columns, where `n` is the number of mean columns and `m` is the length of the linearized covariance matrix; for our sample case where we have only two properties this means:\n",
      "\n",
      "* 1 column to store the facies number;\n",
      "* 2 columns (from 2 to 3) to store mean values for each of the four logs;\n",
      "* 6 columns (from 4 to 9) to store covariance values for each combination of the four logs;\n",
      "* 1 column (10) to store the number of samples belonging to each facies as a way to control the robustness of our statistical analysis (i.e., undersampled classes could be taken out of the study).\n",
      "\n",
      "Here is how I build this DataFrame that I will call `stat`:"
     ]
    },
    {
     "cell_type": "code",
     "collapsed": false,
     "input": [
      "stat=pd.DataFrame(data=None,\n",
      "    columns=['FACIES']+names_mean+names_cov+['SAMPLES'],\n",
      "    index=np.arange(nfacies))\n",
      "stat['FACIES']=range(1,nfacies+1)"
     ],
     "language": "python",
     "metadata": {},
     "outputs": [],
     "prompt_number": 33
    },
    {
     "cell_type": "code",
     "collapsed": false,
     "input": [
      "for i in range(1,nfacies+1):\n",
      "    temp=ww[ww.FACIES==i].drop('FACIES',1)\n",
      "    stat.ix[(stat.FACIES==i),'SAMPLES']=temp.count()[0]\n",
      "    stat.ix[stat.FACIES==i,names_mean[0]:names_mean[-1]]=np.mean(temp.values,0)\n",
      "    stat.ix[stat.FACIES==i,names_cov[0]:names_cov[-1]]=np.cov(temp,rowvar=0).flatten()\n",
      "    print (\"FACIES=%d, number of samples=%d\" % (i, temp.count()[0]))"
     ],
     "language": "python",
     "metadata": {},
     "outputs": [
      {
       "output_type": "stream",
       "stream": "stdout",
       "text": [
        "FACIES=1, number of samples=78\n",
        "FACIES=2, number of samples=40\n",
        "FACIES=3, number of samples=47\n",
        "FACIES=4, number of samples=29\n",
        "FACIES=5, number of samples=53\n",
        "FACIES=6, number of samples=18\n",
        "FACIES=7, number of samples=44\n",
        "FACIES=8, number of samples=192\n",
        "FACIES=9, number of samples=281\n",
        "FACIES=10, number of samples=169\n",
        "FACIES=11, number of samples=199\n",
        "FACIES=12, number of samples=18\n",
        "FACIES=13, number of samples=174"
       ]
      },
      {
       "output_type": "stream",
       "stream": "stdout",
       "text": [
        "\n"
       ]
      }
     ],
     "prompt_number": 34
    },
    {
     "cell_type": "markdown",
     "metadata": {},
     "source": [
      "Now, if want some more information during the statistical analysis I will add these lines to the `for` loop above:    \n",
      "\n",
      "    pd.scatter_matrix(temp, color='k')\n",
      "    plt.suptitle('LFC=%d' % i)\n",
      "    print (temp.describe().ix['mean':'std'])\n",
      "    \n",
      "After having built `stat`, I can very quickly get a look at the results of this analysis:    "
     ]
    },
    {
     "cell_type": "code",
     "collapsed": false,
     "input": [
      "stat"
     ],
     "language": "python",
     "metadata": {},
     "outputs": [
      {
       "html": [
        "<div style=\"max-height:1000px;max-width:1500px;overflow:auto;\">\n",
        "<table border=\"1\" class=\"dataframe\">\n",
        "  <thead>\n",
        "    <tr style=\"text-align: right;\">\n",
        "      <th></th>\n",
        "      <th>FACIES</th>\n",
        "      <th>mean0</th>\n",
        "      <th>mean1</th>\n",
        "      <th>cov0</th>\n",
        "      <th>cov1</th>\n",
        "      <th>cov2</th>\n",
        "      <th>cov3</th>\n",
        "      <th>SAMPLES</th>\n",
        "    </tr>\n",
        "  </thead>\n",
        "  <tbody>\n",
        "    <tr>\n",
        "      <th>0 </th>\n",
        "      <td>  1</td>\n",
        "      <td> 6052.011</td>\n",
        "      <td>  2.32581</td>\n",
        "      <td> 181500.9</td>\n",
        "      <td>  -2.600085</td>\n",
        "      <td>  -2.600085</td>\n",
        "      <td>  0.003130725</td>\n",
        "      <td>  78</td>\n",
        "    </tr>\n",
        "    <tr>\n",
        "      <th>1 </th>\n",
        "      <td>  2</td>\n",
        "      <td> 5908.194</td>\n",
        "      <td> 2.219689</td>\n",
        "      <td> 42712.68</td>\n",
        "      <td> -0.6267426</td>\n",
        "      <td> -0.6267426</td>\n",
        "      <td>  0.004936803</td>\n",
        "      <td>  40</td>\n",
        "    </tr>\n",
        "    <tr>\n",
        "      <th>2 </th>\n",
        "      <td>  3</td>\n",
        "      <td> 5720.837</td>\n",
        "      <td> 2.130004</td>\n",
        "      <td> 101273.6</td>\n",
        "      <td>   4.539485</td>\n",
        "      <td>   4.539485</td>\n",
        "      <td>  0.006645216</td>\n",
        "      <td>  47</td>\n",
        "    </tr>\n",
        "    <tr>\n",
        "      <th>3 </th>\n",
        "      <td>  4</td>\n",
        "      <td> 5400.153</td>\n",
        "      <td>  2.05595</td>\n",
        "      <td> 68434.76</td>\n",
        "      <td>   7.424828</td>\n",
        "      <td>   7.424828</td>\n",
        "      <td>   0.01204829</td>\n",
        "      <td>  29</td>\n",
        "    </tr>\n",
        "    <tr>\n",
        "      <th>4 </th>\n",
        "      <td>  5</td>\n",
        "      <td> 5424.662</td>\n",
        "      <td> 1.856333</td>\n",
        "      <td> 297240.9</td>\n",
        "      <td>  -20.01386</td>\n",
        "      <td>  -20.01386</td>\n",
        "      <td>   0.01214236</td>\n",
        "      <td>  53</td>\n",
        "    </tr>\n",
        "    <tr>\n",
        "      <th>5 </th>\n",
        "      <td>  6</td>\n",
        "      <td> 5012.203</td>\n",
        "      <td> 1.948503</td>\n",
        "      <td> 45328.31</td>\n",
        "      <td>  -11.83536</td>\n",
        "      <td>  -11.83536</td>\n",
        "      <td>  0.006620486</td>\n",
        "      <td>  18</td>\n",
        "    </tr>\n",
        "    <tr>\n",
        "      <th>6 </th>\n",
        "      <td>  7</td>\n",
        "      <td> 6073.081</td>\n",
        "      <td> 1.771467</td>\n",
        "      <td>  68281.6</td>\n",
        "      <td>  -4.252308</td>\n",
        "      <td>  -4.252308</td>\n",
        "      <td>  0.003882318</td>\n",
        "      <td>  44</td>\n",
        "    </tr>\n",
        "    <tr>\n",
        "      <th>7 </th>\n",
        "      <td>  8</td>\n",
        "      <td> 6328.321</td>\n",
        "      <td> 2.271074</td>\n",
        "      <td> 45870.05</td>\n",
        "      <td>  -3.351779</td>\n",
        "      <td>  -3.351779</td>\n",
        "      <td>  0.003422457</td>\n",
        "      <td> 192</td>\n",
        "    </tr>\n",
        "    <tr>\n",
        "      <th>8 </th>\n",
        "      <td>  9</td>\n",
        "      <td> 6432.748</td>\n",
        "      <td> 2.244227</td>\n",
        "      <td> 129457.7</td>\n",
        "      <td>   -3.21586</td>\n",
        "      <td>   -3.21586</td>\n",
        "      <td>  0.003988584</td>\n",
        "      <td> 281</td>\n",
        "    </tr>\n",
        "    <tr>\n",
        "      <th>9 </th>\n",
        "      <td> 10</td>\n",
        "      <td> 6093.398</td>\n",
        "      <td> 2.252271</td>\n",
        "      <td> 56747.86</td>\n",
        "      <td>  -1.600008</td>\n",
        "      <td>  -1.600008</td>\n",
        "      <td>  0.004413111</td>\n",
        "      <td> 169</td>\n",
        "    </tr>\n",
        "    <tr>\n",
        "      <th>10</th>\n",
        "      <td> 11</td>\n",
        "      <td> 6417.704</td>\n",
        "      <td> 2.177649</td>\n",
        "      <td> 369431.3</td>\n",
        "      <td>   -36.1614</td>\n",
        "      <td>   -36.1614</td>\n",
        "      <td>  0.009790679</td>\n",
        "      <td> 199</td>\n",
        "    </tr>\n",
        "    <tr>\n",
        "      <th>11</th>\n",
        "      <td> 12</td>\n",
        "      <td>  5661.42</td>\n",
        "      <td> 2.315764</td>\n",
        "      <td> 3580.272</td>\n",
        "      <td>-0.08188306</td>\n",
        "      <td>-0.08188306</td>\n",
        "      <td> 9.394494e-05</td>\n",
        "      <td>  18</td>\n",
        "    </tr>\n",
        "    <tr>\n",
        "      <th>12</th>\n",
        "      <td> 13</td>\n",
        "      <td> 7231.154</td>\n",
        "      <td> 2.089397</td>\n",
        "      <td> 88772.67</td>\n",
        "      <td> -0.8116245</td>\n",
        "      <td> -0.8116245</td>\n",
        "      <td>  0.004842944</td>\n",
        "      <td> 174</td>\n",
        "    </tr>\n",
        "  </tbody>\n",
        "</table>\n",
        "</div>"
       ],
       "metadata": {},
       "output_type": "pyout",
       "prompt_number": 35,
       "text": [
        "    FACIES     mean0     mean1      cov0        cov1        cov2  \\\n",
        "0        1  6052.011   2.32581  181500.9   -2.600085   -2.600085   \n",
        "1        2  5908.194  2.219689  42712.68  -0.6267426  -0.6267426   \n",
        "2        3  5720.837  2.130004  101273.6    4.539485    4.539485   \n",
        "3        4  5400.153   2.05595  68434.76    7.424828    7.424828   \n",
        "4        5  5424.662  1.856333  297240.9   -20.01386   -20.01386   \n",
        "5        6  5012.203  1.948503  45328.31   -11.83536   -11.83536   \n",
        "6        7  6073.081  1.771467   68281.6   -4.252308   -4.252308   \n",
        "7        8  6328.321  2.271074  45870.05   -3.351779   -3.351779   \n",
        "8        9  6432.748  2.244227  129457.7    -3.21586    -3.21586   \n",
        "9       10  6093.398  2.252271  56747.86   -1.600008   -1.600008   \n",
        "10      11  6417.704  2.177649  369431.3    -36.1614    -36.1614   \n",
        "11      12   5661.42  2.315764  3580.272 -0.08188306 -0.08188306   \n",
        "12      13  7231.154  2.089397  88772.67  -0.8116245  -0.8116245   \n",
        "\n",
        "            cov3 SAMPLES  \n",
        "0    0.003130725      78  \n",
        "1    0.004936803      40  \n",
        "2    0.006645216      47  \n",
        "3     0.01204829      29  \n",
        "4     0.01214236      53  \n",
        "5    0.006620486      18  \n",
        "6    0.003882318      44  \n",
        "7    0.003422457     192  \n",
        "8    0.003988584     281  \n",
        "9    0.004413111     169  \n",
        "10   0.009790679     199  \n",
        "11  9.394494e-05      18  \n",
        "12   0.004842944     174  "
       ]
      }
     ],
     "prompt_number": 35
    },
    {
     "cell_type": "markdown",
     "metadata": {},
     "source": [
      "So the nice thing about having this `stat` DataFrame is that you can interrogate it and get the answer to somebody's questioning you, _\"Yes but how many samples is this coarse grain sandy facies made of? And what's the average Ip here?\"_.\n",
      "\n",
      "You can print the whole thing as above, or just type this:"
     ]
    },
    {
     "cell_type": "code",
     "collapsed": false,
     "input": [
      "stat.ix[stat.FACIES==2,'mean0']"
     ],
     "language": "python",
     "metadata": {},
     "outputs": [
      {
       "metadata": {},
       "output_type": "pyout",
       "prompt_number": 25,
       "text": [
        "1    5908.194\n",
        "Name: mean0, dtype: object"
       ]
      }
     ],
     "prompt_number": 25
    },
    {
     "cell_type": "markdown",
     "metadata": {},
     "source": [
      "Obviously you need to remember that the first property is Ip, so that's why we are querying `mean0`; if we had computed the stats for 3 properties, e.g. Ip, Vp/Vs and density, then the average density value for facies 5 for example would be: `stat.ix[stat.FACIES==5,'mean2']` (remember that Python works with zero-based lists and vectors so the first one has always an index of 0)."
     ]
    }
   ],
   "metadata": {}
  }
 ]
}