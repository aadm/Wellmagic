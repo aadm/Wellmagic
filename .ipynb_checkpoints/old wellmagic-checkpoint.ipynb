{
 "metadata": {
  "name": "",
  "signature": "sha256:38b5c04c0d6228560d5bb67ba81f9c8a1993df902578b2f66e9ced934baa5b85"
 },
 "nbformat": 3,
 "nbformat_minor": 0,
 "worksheets": []
}